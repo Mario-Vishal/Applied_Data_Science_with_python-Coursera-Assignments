{
 "cells": [
  {
   "cell_type": "markdown",
   "metadata": {},
   "source": [
    "---\n",
    "\n",
    "_You are currently looking at **version 1.0** of this notebook. To download notebooks and datafiles, as well as get help on Jupyter notebooks in the Coursera platform, visit the [Jupyter Notebook FAQ](https://www.coursera.org/learn/python-data-analysis/resources/0dhYG) course resource._\n",
    "\n",
    "---"
   ]
  },
  {
   "cell_type": "markdown",
   "metadata": {},
   "source": [
    "# Distributions in Pandas"
   ]
  },
  {
   "cell_type": "code",
   "execution_count": 1,
   "metadata": {
    "collapsed": true
   },
   "outputs": [],
   "source": [
    "import pandas as pd\n",
    "import numpy as np"
   ]
  },
  {
   "cell_type": "code",
   "execution_count": 28,
   "metadata": {},
   "outputs": [
    {
     "data": {
      "text/plain": [
       "array([597, 599, 611, 600, 607, 581, 595, 635, 586, 589, 601, 634, 601,\n",
       "       587, 596, 564, 591, 605, 610, 578])"
      ]
     },
     "execution_count": 28,
     "metadata": {},
     "output_type": "execute_result"
    }
   ],
   "source": [
    "np.random.binomial(1000, 0.6,20)"
   ]
  },
  {
   "cell_type": "code",
   "execution_count": 19,
   "metadata": {},
   "outputs": [
    {
     "data": {
      "text/plain": [
       "0.49"
      ]
     },
     "execution_count": 19,
     "metadata": {},
     "output_type": "execute_result"
    }
   ],
   "source": [
    "np.random.binomial(1000, 0.5)/1000"
   ]
  },
  {
   "cell_type": "code",
   "execution_count": 33,
   "metadata": {},
   "outputs": [
    {
     "data": {
      "text/plain": [
       "6"
      ]
     },
     "execution_count": 33,
     "metadata": {},
     "output_type": "execute_result"
    }
   ],
   "source": [
    "chance_of_tornado = 0.01/100\n",
    "np.random.binomial(100000, chance_of_tornado)"
   ]
  },
  {
   "cell_type": "code",
   "execution_count": 34,
   "metadata": {},
   "outputs": [
    {
     "name": "stdout",
     "output_type": "stream",
     "text": [
      "90 tornadoes back to back in 2739.72602739726 years\n"
     ]
    }
   ],
   "source": [
    "chance_of_tornado = 0.01\n",
    "\n",
    "tornado_events = np.random.binomial(1, chance_of_tornado, 1000000)\n",
    "    \n",
    "two_days_in_a_row = 0\n",
    "for j in range(1,len(tornado_events)-1):\n",
    "    if tornado_events[j]==1 and tornado_events[j-1]==1:\n",
    "        two_days_in_a_row+=1\n",
    "\n",
    "print('{} tornadoes back to back in {} years'.format(two_days_in_a_row, 1000000/365))"
   ]
  },
  {
   "cell_type": "code",
   "execution_count": 35,
   "metadata": {},
   "outputs": [
    {
     "data": {
      "text/plain": [
       "0.05573091767649485"
      ]
     },
     "execution_count": 35,
     "metadata": {},
     "output_type": "execute_result"
    }
   ],
   "source": [
    "np.random.uniform(0, 1)"
   ]
  },
  {
   "cell_type": "code",
   "execution_count": 36,
   "metadata": {},
   "outputs": [
    {
     "data": {
      "text/plain": [
       "-0.1193228941358071"
      ]
     },
     "execution_count": 36,
     "metadata": {},
     "output_type": "execute_result"
    }
   ],
   "source": [
    "np.random.normal(0.75)"
   ]
  },
  {
   "cell_type": "markdown",
   "metadata": {},
   "source": [
    "Formula for standard deviation\n",
    "$$\\sqrt{\\frac{1}{N} \\sum_{i=1}^N (x_i - \\overline{x})^2}$$"
   ]
  },
  {
   "cell_type": "code",
   "execution_count": 37,
   "metadata": {},
   "outputs": [
    {
     "data": {
      "text/plain": [
       "0.98616284166671653"
      ]
     },
     "execution_count": 37,
     "metadata": {},
     "output_type": "execute_result"
    }
   ],
   "source": [
    "distribution = np.random.normal(0.75,size=1000)\n",
    "\n",
    "np.sqrt(np.sum((np.mean(distribution)-distribution)**2)/len(distribution))"
   ]
  },
  {
   "cell_type": "code",
   "execution_count": 38,
   "metadata": {
    "scrolled": true
   },
   "outputs": [
    {
     "data": {
      "text/plain": [
       "0.98616284166671653"
      ]
     },
     "execution_count": 38,
     "metadata": {},
     "output_type": "execute_result"
    }
   ],
   "source": [
    "np.std(distribution)"
   ]
  },
  {
   "cell_type": "code",
   "execution_count": 39,
   "metadata": {},
   "outputs": [
    {
     "data": {
      "text/plain": [
       "0.007163953987778804"
      ]
     },
     "execution_count": 39,
     "metadata": {},
     "output_type": "execute_result"
    }
   ],
   "source": [
    "import scipy.stats as stats\n",
    "stats.kurtosis(distribution)"
   ]
  },
  {
   "cell_type": "code",
   "execution_count": 40,
   "metadata": {},
   "outputs": [
    {
     "data": {
      "text/plain": [
       "-0.006480711389179693"
      ]
     },
     "execution_count": 40,
     "metadata": {},
     "output_type": "execute_result"
    }
   ],
   "source": [
    "stats.skew(distribution)"
   ]
  },
  {
   "cell_type": "code",
   "execution_count": 41,
   "metadata": {},
   "outputs": [
    {
     "data": {
      "text/plain": [
       "1.9861726705340996"
      ]
     },
     "execution_count": 41,
     "metadata": {},
     "output_type": "execute_result"
    }
   ],
   "source": [
    "chi_squared_df2 = np.random.chisquare(2, size=10000)\n",
    "stats.skew(chi_squared_df2)"
   ]
  },
  {
   "cell_type": "code",
   "execution_count": 55,
   "metadata": {},
   "outputs": [
    {
     "data": {
      "text/plain": [
       "1.3396616884551307"
      ]
     },
     "execution_count": 55,
     "metadata": {},
     "output_type": "execute_result"
    }
   ],
   "source": [
    "chi_squared_df5 = np.random.chisquare(4, size=10000)\n",
    "stats.skew(chi_squared_df5)"
   ]
  },
  {
   "cell_type": "code",
   "execution_count": 56,
   "metadata": {},
   "outputs": [
    {
     "data": {
      "text/plain": [
       "<matplotlib.legend.Legend at 0x7ff27f5102b0>"
      ]
     },
     "execution_count": 56,
     "metadata": {},
     "output_type": "execute_result"
    },
    {
     "data": {
      "image/png": "[encoded data removed]",
      "text/plain": [
       "<matplotlib.figure.Figure at 0x7ff27f510400>"
      ]
     },
     "metadata": {},
     "output_type": "display_data"
    }
   ],
   "source": [
    "%matplotlib inline\n",
    "import matplotlib\n",
    "import matplotlib.pyplot as plt\n",
    "\n",
    "output = plt.hist([chi_squared_df2,chi_squared_df5], bins=50, histtype='step', \n",
    "                  label=['2 degrees of freedom','5 degrees of freedom'])\n",
    "plt.legend(loc='upper right')\n"
   ]
  },
  {
   "cell_type": "markdown",
   "metadata": {},
   "source": [
    "# Hypothesis Testing"
   ]
  },
  {
   "cell_type": "code",
   "execution_count": 2,
   "metadata": {
    "collapsed": true
   },
   "outputs": [],
   "source": [
    "df = pd.read_csv('grades.csv')"
   ]
  },
  {
   "cell_type": "code",
   "execution_count": 4,
   "metadata": {},
   "outputs": [
    {
     "data": {
      "text/html": [
       "<div>\n",
       "<table border=\"1\" class=\"dataframe\">\n",
       "  <thead>\n",
       "    <tr style=\"text-align: right;\">\n",
       "      <th></th>\n",
       "      <th>student_id</th>\n",
       "      <th>assignment1_grade</th>\n",
       "      <th>assignment1_submission</th>\n",
       "      <th>assignment2_grade</th>\n",
       "      <th>assignment2_submission</th>\n",
       "      <th>assignment3_grade</th>\n",
       "      <th>assignment3_submission</th>\n",
       "      <th>assignment4_grade</th>\n",
       "      <th>assignment4_submission</th>\n",
       "      <th>assignment5_grade</th>\n",
       "      <th>assignment5_submission</th>\n",
       "      <th>assignment6_grade</th>\n",
       "      <th>assignment6_submission</th>\n",
       "    </tr>\n",
       "  </thead>\n",
       "  <tbody>\n",
       "    <tr>\n",
       "      <th>2310</th>\n",
       "      <td>DE88902E-C7A7-E37A-CFA7-F2C8F2D219F2</td>\n",
       "      <td>77.684611</td>\n",
       "      <td>2016-03-07 02:52:24.378000000</td>\n",
       "      <td>69.916150</td>\n",
       "      <td>2016-03-11 22:02:39.161000000</td>\n",
       "      <td>69.916150</td>\n",
       "      <td>2016-03-17 07:30:09.261000000</td>\n",
       "      <td>69.916150</td>\n",
       "      <td>2016-03-18 18:01:24.525000000</td>\n",
       "      <td>55.932920</td>\n",
       "      <td>2016-03-20 06:38:12.120000000</td>\n",
       "      <td>50.339628</td>\n",
       "      <td>2016-03-25 11:00:06.923000000</td>\n",
       "    </tr>\n",
       "    <tr>\n",
       "      <th>2311</th>\n",
       "      <td>DE88902E-C7A7-E37A-CFA7-F2C8F2D219F2</td>\n",
       "      <td>75.367870</td>\n",
       "      <td>2015-11-29 02:43:27.932000000</td>\n",
       "      <td>59.934296</td>\n",
       "      <td>2015-12-03 05:30:39.218000000</td>\n",
       "      <td>48.687437</td>\n",
       "      <td>2015-12-09 15:56:44.895000000</td>\n",
       "      <td>43.008693</td>\n",
       "      <td>2015-12-13 06:18:01.342000000</td>\n",
       "      <td>38.707824</td>\n",
       "      <td>2015-12-20 02:39:39.248000000</td>\n",
       "      <td>38.707824</td>\n",
       "      <td>2015-12-22 13:34:42.931000000</td>\n",
       "    </tr>\n",
       "    <tr>\n",
       "      <th>2312</th>\n",
       "      <td>EFDA9F93-D0C3-864F-B0F6-2E9AA3E05E31</td>\n",
       "      <td>73.269463</td>\n",
       "      <td>2015-10-20 08:09:27.418000000</td>\n",
       "      <td>58.255570</td>\n",
       "      <td>2015-11-18 19:07:06.930000000</td>\n",
       "      <td>58.955570</td>\n",
       "      <td>2015-12-10 08:54:54.871000000</td>\n",
       "      <td>52.250013</td>\n",
       "      <td>2015-11-23 19:40:00.434000000</td>\n",
       "      <td>41.800010</td>\n",
       "      <td>2015-11-29 14:23:43.659000000</td>\n",
       "      <td>41.800010</td>\n",
       "      <td>2015-12-04 09:56:07.156000000</td>\n",
       "    </tr>\n",
       "    <tr>\n",
       "      <th>2313</th>\n",
       "      <td>1F51E050-78F7-F270-1B90-ED1BC0376763</td>\n",
       "      <td>87.268366</td>\n",
       "      <td>2016-04-03 09:04:51.646000000</td>\n",
       "      <td>87.268366</td>\n",
       "      <td>2016-04-08 19:24:29.095000000</td>\n",
       "      <td>87.268366</td>\n",
       "      <td>2016-04-12 05:43:33.853000000</td>\n",
       "      <td>69.814693</td>\n",
       "      <td>2016-04-14 10:43:58.104000000</td>\n",
       "      <td>55.851754</td>\n",
       "      <td>2016-04-19 05:37:19.322000000</td>\n",
       "      <td>55.851754</td>\n",
       "      <td>2016-04-23 03:44:06.813000000</td>\n",
       "    </tr>\n",
       "    <tr>\n",
       "      <th>2314</th>\n",
       "      <td>DDE0526B-7DA4-80E8-C2A6-D097F3826029</td>\n",
       "      <td>80.318105</td>\n",
       "      <td>2015-10-04 09:46:03.403000000</td>\n",
       "      <td>79.818105</td>\n",
       "      <td>2015-10-06 10:28:30.820000000</td>\n",
       "      <td>64.594484</td>\n",
       "      <td>2015-10-13 17:06:29.179000000</td>\n",
       "      <td>50.955587</td>\n",
       "      <td>2015-10-06 16:18:35.513000000</td>\n",
       "      <td>40.764470</td>\n",
       "      <td>2015-10-23 17:03:26.939000000</td>\n",
       "      <td>40.764470</td>\n",
       "      <td>2015-10-26 15:56:55.460000000</td>\n",
       "    </tr>\n",
       "  </tbody>\n",
       "</table>\n",
       "</div>"
      ],
      "text/plain": [
       "                                student_id  assignment1_grade  \\\n",
       "2310  DE88902E-C7A7-E37A-CFA7-F2C8F2D219F2          77.684611   \n",
       "2311  DE88902E-C7A7-E37A-CFA7-F2C8F2D219F2          75.367870   \n",
       "2312  EFDA9F93-D0C3-864F-B0F6-2E9AA3E05E31          73.269463   \n",
       "2313  1F51E050-78F7-F270-1B90-ED1BC0376763          87.268366   \n",
       "2314  DDE0526B-7DA4-80E8-C2A6-D097F3826029          80.318105   \n",
       "\n",
       "             assignment1_submission  assignment2_grade  \\\n",
       "2310  2016-03-07 02:52:24.378000000          69.916150   \n",
       "2311  2015-11-29 02:43:27.932000000          59.934296   \n",
       "2312  2015-10-20 08:09:27.418000000          58.255570   \n",
       "2313  2016-04-03 09:04:51.646000000          87.268366   \n",
       "2314  2015-10-04 09:46:03.403000000          79.818105   \n",
       "\n",
       "             assignment2_submission  assignment3_grade  \\\n",
       "2310  2016-03-11 22:02:39.161000000          69.916150   \n",
       "2311  2015-12-03 05:30:39.218000000          48.687437   \n",
       "2312  2015-11-18 19:07:06.930000000          58.955570   \n",
       "2313  2016-04-08 19:24:29.095000000          87.268366   \n",
       "2314  2015-10-06 10:28:30.820000000          64.594484   \n",
       "\n",
       "             assignment3_submission  assignment4_grade  \\\n",
       "2310  2016-03-17 07:30:09.261000000          69.916150   \n",
       "2311  2015-12-09 15:56:44.895000000          43.008693   \n",
       "2312  2015-12-10 08:54:54.871000000          52.250013   \n",
       "2313  2016-04-12 05:43:33.853000000          69.814693   \n",
       "2314  2015-10-13 17:06:29.179000000          50.955587   \n",
       "\n",
       "             assignment4_submission  assignment5_grade  \\\n",
       "2310  2016-03-18 18:01:24.525000000          55.932920   \n",
       "2311  2015-12-13 06:18:01.342000000          38.707824   \n",
       "2312  2015-11-23 19:40:00.434000000          41.800010   \n",
       "2313  2016-04-14 10:43:58.104000000          55.851754   \n",
       "2314  2015-10-06 16:18:35.513000000          40.764470   \n",
       "\n",
       "             assignment5_submission  assignment6_grade  \\\n",
       "2310  2016-03-20 06:38:12.120000000          50.339628   \n",
       "2311  2015-12-20 02:39:39.248000000          38.707824   \n",
       "2312  2015-11-29 14:23:43.659000000          41.800010   \n",
       "2313  2016-04-19 05:37:19.322000000          55.851754   \n",
       "2314  2015-10-23 17:03:26.939000000          40.764470   \n",
       "\n",
       "             assignment6_submission  \n",
       "2310  2016-03-25 11:00:06.923000000  \n",
       "2311  2015-12-22 13:34:42.931000000  \n",
       "2312  2015-12-04 09:56:07.156000000  \n",
       "2313  2016-04-23 03:44:06.813000000  \n",
       "2314  2015-10-26 15:56:55.460000000  "
      ]
     },
     "execution_count": 4,
     "metadata": {},
     "output_type": "execute_result"
    }
   ],
   "source": [
    "df.tail()"
   ]
  },
  {
   "cell_type": "code",
   "execution_count": 5,
   "metadata": {},
   "outputs": [
    {
     "data": {
      "text/plain": [
       "2315"
      ]
     },
     "execution_count": 5,
     "metadata": {},
     "output_type": "execute_result"
    }
   ],
   "source": [
    "len(df)"
   ]
  },
  {
   "cell_type": "code",
   "execution_count": 6,
   "metadata": {
    "collapsed": true
   },
   "outputs": [],
   "source": [
    "early = df[df['assignment1_submission'] <= '2015-12-31']\n",
    "late = df[df['assignment1_submission'] > '2015-12-31']"
   ]
  },
  {
   "cell_type": "code",
   "execution_count": 7,
   "metadata": {},
   "outputs": [
    {
     "data": {
      "text/plain": [
       "assignment1_grade    74.972741\n",
       "assignment2_grade    67.252190\n",
       "assignment3_grade    61.129050\n",
       "assignment4_grade    54.157620\n",
       "assignment5_grade    48.634643\n",
       "assignment6_grade    43.838980\n",
       "dtype: float64"
      ]
     },
     "execution_count": 7,
     "metadata": {},
     "output_type": "execute_result"
    }
   ],
   "source": [
    "early.mean()"
   ]
  },
  {
   "cell_type": "code",
   "execution_count": 8,
   "metadata": {},
   "outputs": [
    {
     "data": {
      "text/plain": [
       "assignment1_grade    74.017429\n",
       "assignment2_grade    66.370822\n",
       "assignment3_grade    60.023244\n",
       "assignment4_grade    54.058138\n",
       "assignment5_grade    48.599402\n",
       "assignment6_grade    43.844384\n",
       "dtype: float64"
      ]
     },
     "execution_count": 8,
     "metadata": {},
     "output_type": "execute_result"
    }
   ],
   "source": [
    "late.mean()"
   ]
  },
  {
   "cell_type": "code",
   "execution_count": 9,
   "metadata": {
    "collapsed": true
   },
   "outputs": [],
   "source": [
    "from scipy import stats\n",
    "stats.ttest_ind?"
   ]
  },
  {
   "cell_type": "code",
   "execution_count": 10,
   "metadata": {},
   "outputs": [
    {
     "data": {
      "text/plain": [
       "Ttest_indResult(statistic=1.400549944897566, pvalue=0.16148283016060577)"
      ]
     },
     "execution_count": 10,
     "metadata": {},
     "output_type": "execute_result"
    }
   ],
   "source": [
    "stats.ttest_ind(early['assignment1_grade'], late['assignment1_grade'])"
   ]
  },
  {
   "cell_type": "code",
   "execution_count": 12,
   "metadata": {},
   "outputs": [
    {
     "data": {
      "text/plain": [
       "Ttest_indResult(statistic=1.3239868220912567, pvalue=0.18563824610067967)"
      ]
     },
     "execution_count": 12,
     "metadata": {},
     "output_type": "execute_result"
    }
   ],
   "source": [
    "stats.ttest_ind(early['assignment2_grade'], late['assignment2_grade'])"
   ]
  },
  {
   "cell_type": "code",
   "execution_count": 11,
   "metadata": {},
   "outputs": [
    {
     "data": {
      "text/plain": [
       "Ttest_indResult(statistic=1.7116160037010733, pvalue=0.087101516341556676)"
      ]
     },
     "execution_count": 11,
     "metadata": {},
     "output_type": "execute_result"
    }
   ],
   "source": [
    "stats.ttest_ind(early['assignment3_grade'], late['assignment3_grade'])"
   ]
  },
  {
   "cell_type": "code",
   "execution_count": null,
   "metadata": {
    "collapsed": true
   },
   "outputs": [],
   "source": []
  }
 ],
 "metadata": {
  "kernelspec": {
   "display_name": "Python 3",
   "language": "python",
   "name": "python3"
  },
  "language_info": {
   "codemirror_mode": {
    "name": "ipython",
    "version": 3
   },
   "file_extension": ".py",
   "mimetype": "text/x-python",
   "name": "python",
   "nbconvert_exporter": "python",
   "pygments_lexer": "ipython3",
   "version": "3.6.2"
  }
 },
 "nbformat": 4,
 "nbformat_minor": 1
}
